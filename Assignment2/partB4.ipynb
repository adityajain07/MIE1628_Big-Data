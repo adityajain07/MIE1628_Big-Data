{
 "cells": [
  {
   "cell_type": "code",
   "execution_count": 8,
   "metadata": {},
   "outputs": [],
   "source": [
    "from pyspark.sql import SparkSession\n",
    "from pyspark.ml.tuning import CrossValidatorModel\n",
    "from pyspark.sql import Row\n",
    "from pyspark.ml.recommendation import ALS\n",
    "from pyspark.sql.functions import col\n",
    "\n",
    "# start spark session\n",
    "spark = SparkSession.builder.appName('rec-eval').getOrCreate()\n",
    "\n",
    "# read data\n",
    "rdd_orig   = spark.read.option(\"header\", True).csv('movies.csv').rdd\n",
    "ratingsRDD = rdd_orig.map(lambda p: Row(userId=int(p[2]), movieId=int(p[0]),\n",
    "                                     rating=int(p[1])))\n",
    "ratings    = spark.createDataFrame(ratingsRDD)\n",
    "\n",
    "# load trained model\n",
    "als        = ALS(userCol=\"userId\", itemCol=\"movieId\", ratingCol=\"rating\", coldStartStrategy=\"drop\")\n",
    "model_path = 'rec-model-v01/'\n",
    "model      = CrossValidatorModel.read().load(model_path)"
   ]
  },
  {
   "cell_type": "code",
   "execution_count": 9,
   "metadata": {},
   "outputs": [
    {
     "name": "stdout",
     "output_type": "stream",
     "text": [
      "+------+\n",
      "|userId|\n",
      "+------+\n",
      "|    10|\n",
      "|    14|\n",
      "+------+\n",
      "\n",
      "None\n"
     ]
    }
   ],
   "source": [
    "users = ratings.select(als.getUserCol()).distinct()\n",
    "users = users.filter((col(\"userId\") == 10) | (col(\"userId\") == 14))\n",
    "print(users.show())"
   ]
  },
  {
   "cell_type": "code",
   "execution_count": 10,
   "metadata": {},
   "outputs": [
    {
     "name": "stderr",
     "output_type": "stream",
     "text": [
      "[Stage 39:>                                                         (0 + 4) / 4]\r"
     ]
    },
    {
     "name": "stdout",
     "output_type": "stream",
     "text": [
      "+------+--------------------+\n",
      "|userId|     recommendations|\n",
      "+------+--------------------+\n",
      "|    10|[{40, 3.1258192},...|\n",
      "|    14|[{29, 4.409994}, ...|\n",
      "+------+--------------------+\n",
      "\n",
      "None\n"
     ]
    },
    {
     "name": "stderr",
     "output_type": "stream",
     "text": [
      "                                                                                \r"
     ]
    }
   ],
   "source": [
    "movie_rec = model.bestModel.recommendForUserSubset(users, 15)\n",
    "print(movie_rec.show())"
   ]
  },
  {
   "cell_type": "code",
   "execution_count": null,
   "metadata": {},
   "outputs": [],
   "source": []
  }
 ],
 "metadata": {
  "kernelspec": {
   "display_name": "Python 3.8.13 ('gbif_species_trainer')",
   "language": "python",
   "name": "python3"
  },
  "language_info": {
   "codemirror_mode": {
    "name": "ipython",
    "version": 3
   },
   "file_extension": ".py",
   "mimetype": "text/x-python",
   "name": "python",
   "nbconvert_exporter": "python",
   "pygments_lexer": "ipython3",
   "version": "3.8.13"
  },
  "orig_nbformat": 4,
  "vscode": {
   "interpreter": {
    "hash": "4dcdab752bb1f8c1bcf95bb61c9641ced6e29baa235292d724cc4c5ca8bfc1cb"
   }
  }
 },
 "nbformat": 4,
 "nbformat_minor": 2
}
