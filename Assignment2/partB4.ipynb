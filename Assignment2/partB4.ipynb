{
 "cells": [
  {
   "cell_type": "code",
   "execution_count": 1,
   "metadata": {},
   "outputs": [
    {
     "name": "stderr",
     "output_type": "stream",
     "text": [
      "Setting default log level to \"WARN\".\n",
      "To adjust logging level use sc.setLogLevel(newLevel). For SparkR, use setLogLevel(newLevel).\n"
     ]
    },
    {
     "name": "stdout",
     "output_type": "stream",
     "text": [
      "23/02/13 16:13:52 WARN NativeCodeLoader: Unable to load native-hadoop library for your platform... using builtin-java classes where applicable\n"
     ]
    },
    {
     "name": "stderr",
     "output_type": "stream",
     "text": [
      "                                                                                \r"
     ]
    },
    {
     "name": "stdout",
     "output_type": "stream",
     "text": [
      "23/02/13 16:14:14 WARN InstanceBuilder$NativeBLAS: Failed to load implementation from:dev.ludovic.netlib.blas.JNIBLAS\n",
      "23/02/13 16:14:14 WARN InstanceBuilder$NativeBLAS: Failed to load implementation from:dev.ludovic.netlib.blas.ForeignLinkerBLAS\n",
      "23/02/13 16:14:15 WARN InstanceBuilder$NativeLAPACK: Failed to load implementation from:dev.ludovic.netlib.lapack.JNILAPACK\n"
     ]
    },
    {
     "name": "stderr",
     "output_type": "stream",
     "text": [
      "                                                                                \r"
     ]
    }
   ],
   "source": [
    "from pyspark.sql import SparkSession\n",
    "from pyspark.ml.recommendation import ALS\n",
    "from pyspark.ml.tuning import ParamGridBuilder, TrainValidationSplit\n",
    "from pyspark.sql import Row\n",
    "from pyspark.ml.evaluation import RegressionEvaluator\n",
    "\n",
    "\n",
    "# start spark session\n",
    "spark = SparkSession.builder.appName('rec').getOrCreate()\n",
    "\n",
    "# read csv file\n",
    "rdd_orig   = spark.read.option(\"header\", True).csv('movies.csv').rdd\n",
    "ratingsRDD = rdd_orig.map(lambda p: Row(userId=int(p[2]), movieId=int(p[0]),\n",
    "                                     rating=int(p[1])))\n",
    "\n",
    "# create training and test data\n",
    "train_split      = 0.8\n",
    "test_split       = 0.2\n",
    "ratings          = spark.createDataFrame(ratingsRDD)\n",
    "(training, test) = ratings.randomSplit([train_split, test_split])\n",
    "\n",
    "# instantiating model \n",
    "als   = ALS(userCol=\"userId\", itemCol=\"movieId\", ratingCol=\"rating\", coldStartStrategy=\"drop\")\n",
    "\n",
    "# # hyperparameter search\n",
    "parameters=ParamGridBuilder() \\\n",
    "                .addGrid(als.maxIter, [5, 10]) \\\n",
    "                .addGrid(als.rank, [5]) \\\n",
    "                .addGrid(als.regParam, [0.1]) \\\n",
    "                .build()\n",
    "                \n",
    "\n",
    "# # evaluation metric\n",
    "evaluator   = RegressionEvaluator(metricName=\"rmse\", labelCol=\"rating\",\n",
    "                                predictionCol=\"prediction\")\n",
    "\n",
    "# build train, validation split\n",
    "trainvs = TrainValidationSplit(\n",
    "                estimator=als,\n",
    "                estimatorParamMaps=parameters,\n",
    "                evaluator=evaluator\n",
    "                )\n",
    "\n",
    "# fit model on to training data and evaluate using validation data\n",
    "model = trainvs.fit(training)\n",
    "model_path = 'rec-model-v01/'\n",
    "model.write().overwrite().save(model_path)"
   ]
  },
  {
   "cell_type": "code",
   "execution_count": 2,
   "metadata": {},
   "outputs": [
    {
     "name": "stdout",
     "output_type": "stream",
     "text": [
      "The validation metrics are:  [1.4729006701862974, 1.2818269734669225]\n"
     ]
    }
   ],
   "source": [
    "print('The validation metrics are: ', model.validationMetrics)"
   ]
  },
  {
   "cell_type": "code",
   "execution_count": 9,
   "metadata": {},
   "outputs": [
    {
     "name": "stdout",
     "output_type": "stream",
     "text": [
      "5\n"
     ]
    },
    {
     "ename": "AttributeError",
     "evalue": "'list' object has no attribute 'maxIter'",
     "output_type": "error",
     "traceback": [
      "\u001b[0;31m---------------------------------------------------------------------------\u001b[0m",
      "\u001b[0;31mAttributeError\u001b[0m                            Traceback (most recent call last)",
      "Cell \u001b[0;32mIn[9], line 2\u001b[0m\n\u001b[1;32m      1\u001b[0m \u001b[38;5;28mprint\u001b[39m(model\u001b[38;5;241m.\u001b[39mbestModel\u001b[38;5;241m.\u001b[39mrank)\n\u001b[0;32m----> 2\u001b[0m \u001b[38;5;28mprint\u001b[39m(\u001b[43mmodel\u001b[49m\u001b[38;5;241;43m.\u001b[39;49m\u001b[43mbestModel\u001b[49m\u001b[38;5;241;43m.\u001b[39;49m\u001b[43mparams\u001b[49m\u001b[38;5;241;43m.\u001b[39;49m\u001b[43mmaxIter\u001b[49m)\n",
      "\u001b[0;31mAttributeError\u001b[0m: 'list' object has no attribute 'maxIter'"
     ]
    }
   ],
   "source": [
    "print(model.bestModel.rank)\n",
    "print(model.bestModel.params)"
   ]
  },
  {
   "cell_type": "code",
   "execution_count": null,
   "metadata": {},
   "outputs": [],
   "source": []
  }
 ],
 "metadata": {
  "kernelspec": {
   "display_name": "Python 3.8.13 ('gbif_species_trainer')",
   "language": "python",
   "name": "python3"
  },
  "language_info": {
   "codemirror_mode": {
    "name": "ipython",
    "version": 3
   },
   "file_extension": ".py",
   "mimetype": "text/x-python",
   "name": "python",
   "nbconvert_exporter": "python",
   "pygments_lexer": "ipython3",
   "version": "3.8.13"
  },
  "orig_nbformat": 4,
  "vscode": {
   "interpreter": {
    "hash": "4dcdab752bb1f8c1bcf95bb61c9641ced6e29baa235292d724cc4c5ca8bfc1cb"
   }
  }
 },
 "nbformat": 4,
 "nbformat_minor": 2
}
